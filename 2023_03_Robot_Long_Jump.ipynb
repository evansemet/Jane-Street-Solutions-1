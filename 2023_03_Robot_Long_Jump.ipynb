{
 "cells": [
  {
   "cell_type": "code",
   "execution_count": 1,
   "metadata": {},
   "outputs": [],
   "source": [
    "import requests\n",
    "from bs4 import BeautifulSoup\n",
    "from IPython.display import Markdown, display,IFrame,HTML,Image\n",
    "import numpy as np\n",
    "import time\n",
    "import seaborn as sns\n",
    "import matplotlib.pyplot as plt\n",
    "from math import factorial\n",
    "import requests\n",
    "from bs4 import BeautifulSoup\n",
    "from IPython.display import Markdown, display,IFrame,HTML,Image\n",
    "import itertools\n",
    "from z3 import *"
   ]
  },
  {
   "cell_type": "code",
   "execution_count": 2,
   "metadata": {},
   "outputs": [
    {
     "data": {
      "text/markdown": [
       "### Puzzle as published\n",
       "https://www.janestreet.com/puzzles/robot-long-jump-index/"
      ],
      "text/plain": [
       "<IPython.core.display.Markdown object>"
      ]
     },
     "metadata": {},
     "output_type": "display_data"
    },
    {
     "data": {
      "text/html": [
       "<div class=\"col-12\">\n",
       "<p>Great news! The\n",
       "<a href=\"https://www.janestreet.com/puzzles/robot-weightlifting-index/\" title=\"weightlifting\">variety</a>\n",
       "<a href=\"https://www.janestreet.com/puzzles/robot-tug-of-war-index/\" title=\"tug of war\">of</a> <a href=\"https://www.janestreet.com/puzzles/robot-swimming-trials-index/\" title=\"swimming\">robotic</a>\n",
       "<a href=\"https://www.janestreet.com/puzzles/robot-archery-index\" title=\"archery\">competition</a>\n",
       "<a href=\"https://www.janestreet.com/puzzles/robot-updated-swimming-trials-index\" title=\"more swimming\">continues</a> to grow at\n",
       "breakneck pace! Most recently, head-to-head long jump contests have\n",
       "been all the rage.</p>\n",
       "<p>These contests consist of rounds in which each robot has a single\n",
       "<em>attempt</em> to score. In an attempt, a robot speeds down the running track\n",
       "(modeled as the numberline) from 0, the starting line, to 1, the\n",
       "takeoff point. A robot moves along this track by drawing a real number\n",
       "uniformly from [0,1] and adding it to the robot’s current\n",
       "position. After each of these advances, the robot must decide whether\n",
       "to jump or wait. If a robot crosses the takeoff point (at 1) <strong>before\n",
       "jumping</strong> its attempt receives a score of 0. If the robot jumps before\n",
       "crossing 1, it draws one final real number from [0,1] and adds it to\n",
       "its current position, and this final sum is the score of the attempt.</p>\n",
       "<p>In a head-to-head contest, the two robots each have a single attempt\n",
       "without knowing the other’s result. In the case that they tie\n",
       "(typically because they both scored 0), that round is discarded and a\n",
       "new round begins. As soon as one robot scores higher than the other on\n",
       "the same round, that robot is declared the winner!</p>\n",
       "<p>Assume both robots are programmed to optimize their probability of\n",
       "winning and are aware of each other’s strategies. You are just sitting\n",
       "down to watch a match’s very first attempt (of the first round, which may or\n",
       "may not end up being discarded). <strong>What is the\n",
       "probability that this attempt scores 0?</strong> Give this probability as a\n",
       "decimal <strong>rounded to 9 digits past the decimal point</strong>.</p>\n",
       "</div>"
      ],
      "text/plain": [
       "<IPython.core.display.HTML object>"
      ]
     },
     "execution_count": 2,
     "metadata": {},
     "output_type": "execute_result"
    }
   ],
   "source": [
    "url='https://www.janestreet.com/puzzles/robot-long-jump-index/'\n",
    "res = requests.get(url)\n",
    "soup = BeautifulSoup(res.content, 'html.parser')\n",
    "display(Markdown('### Puzzle as published\\n'+url))\n",
    "HTML(str(soup.find_all('div', {'class' :'col-12'})[3]))"
   ]
  },
  {
   "cell_type": "code",
   "execution_count": 3,
   "metadata": {},
   "outputs": [],
   "source": [
    "def game(jump):\n",
    "    a=0\n",
    "    while a<jump:\n",
    "        a += random.random()\n",
    "    if a >1:\n",
    "        return 0\n",
    "    else:\n",
    "        a +=0.5\n",
    "        return a\n",
    "    \n",
    "def sim(jump,trials=10000):\n",
    "    total =0\n",
    "    for i in range(trials):\n",
    "        total +=game(jump)\n",
    "    return total/trials"
   ]
  },
  {
   "cell_type": "code",
   "execution_count": 4,
   "metadata": {},
   "outputs": [
    {
     "data": {
      "text/latex": [
       "$\\displaystyle f{\\left(x \\right)} = \\left(1 - x\\right) \\left(\\frac{x}{2} + 1\\right) e^{x}$"
      ],
      "text/plain": [
       "Eq(f(x), (1 - x)*(x/2 + 1)*exp(x))"
      ]
     },
     "metadata": {},
     "output_type": "display_data"
    },
    {
     "data": {
      "text/latex": [
       "$\\displaystyle \\frac{\\left(- x^{2} - 3 x + 1\\right) e^{x}}{2}$"
      ],
      "text/plain": [
       "(-x**2 - 3*x + 1)*exp(x)/2"
      ]
     },
     "metadata": {},
     "output_type": "display_data"
    },
    {
     "data": {
      "text/plain": [
       "[(-3/2 + sqrt(13)/2, 0.302775637731995)]"
      ]
     },
     "execution_count": 4,
     "metadata": {},
     "output_type": "execute_result"
    }
   ],
   "source": [
    "# Maximise 1 player game\n",
    "x,y =symbols(\"x y\")\n",
    "f = Function(\"f\")\n",
    "\n",
    "#chance of \n",
    "\n",
    "Eq1 = Eq(f(x),exp(x)*(1-x)*(1+x/2))\n",
    "Eq2 = sy.diff(Eq1.rhs).simplify()\n",
    "display(Eq1)\n",
    "display(Eq2)\n",
    "[(i,i.evalf()) for i in sy.solve(Eq(Eq2,0))if i>0]"
   ]
  },
  {
   "cell_type": "code",
   "execution_count": 5,
   "metadata": {},
   "outputs": [
    {
     "data": {
      "text/plain": [
       "[<matplotlib.lines.Line2D at 0x205f4342e50>]"
      ]
     },
     "execution_count": 5,
     "metadata": {},
     "output_type": "execute_result"
    },
    {
     "data": {
      "image/png": "[encoded data removed]",
      "text/plain": [
       "<Figure size 432x288 with 1 Axes>"
      ]
     },
     "metadata": {
      "needs_background": "light"
     },
     "output_type": "display_data"
    }
   ],
   "source": [
    "a = np.linspace(0.0001,1,100)\n",
    "v_sim = np.vectorize(sim)\n",
    "v_func = np.vectorize(lambda x:exp(x)*(1-x)*(1+x/2))\n",
    "\n",
    "plt.plot(a,v_func(a))\n",
    "plt.plot(a,v_sim(a))"
   ]
  },
  {
   "cell_type": "code",
   "execution_count": 6,
   "metadata": {},
   "outputs": [
    {
     "data": {
      "text/latex": [
       "$\\displaystyle 0.632808492604494$"
      ],
      "text/plain": [
       "0.632808492604494"
      ]
     },
     "execution_count": 6,
     "metadata": {},
     "output_type": "execute_result"
    }
   ],
   "source": [
    "sy.nsolve(Eq(-1/12*exp(x)*(x-1)*(-x**3+x**2+4*x+6),1/2),x,0.4)"
   ]
  },
  {
   "cell_type": "code",
   "execution_count": 7,
   "metadata": {},
   "outputs": [
    {
     "data": {
      "text/latex": [
       "$\\displaystyle p{\\left(x,y \\right)} = \\frac{\\left(1 - x\\right) \\left(1 - y\\right) e^{x} e^{y} \\int\\limits_{\\max\\left(x, y\\right)}^{2} \\frac{\\left(- \\max\\left(x, u - 1\\right) + \\min\\left(1, u\\right)\\right) \\int\\limits_{y}^{u} \\frac{- \\max\\left(y, v - 1\\right) + \\min\\left(1, v\\right)}{1 - y}\\, dv}{1 - x}\\, du + \\left(1 - x\\right) \\left(- \\left(1 - y\\right) e^{y} + 1\\right) e^{x}}{- \\left(- \\left(1 - x\\right) e^{x} + 1\\right) \\left(- \\left(1 - y\\right) e^{y} + 1\\right) + 1}$"
      ],
      "text/plain": [
       "Eq(p(x, y), ((1 - x)*(1 - y)*exp(x)*exp(y)*Integral((-Max(x, u - 1) + Min(1, u))*Integral((-Max(y, v - 1) + Min(1, v))/(1 - y), (v, y, u))/(1 - x), (u, Max(x, y), 2)) + (1 - x)*(-(1 - y)*exp(y) + 1)*exp(x))/(-(-(1 - x)*exp(x) + 1)*(-(1 - y)*exp(y) + 1) + 1))"
      ]
     },
     "metadata": {},
     "output_type": "display_data"
    }
   ],
   "source": [
    "# model the game based on the strategies of each player. Threshold at which they jump is x,y\n",
    "p = Function(\"p\")\n",
    "f = Function(\"f\")\n",
    "g = Function(\"g\")\n",
    "\n",
    "x,y,u,v =sy.symbols(\"x y u v\",positive=True)\n",
    "\n",
    "Eq1 = Eq(f(u),(Min(1,u)-Max(x,u-1))/(1-x))\n",
    "Eq2 = Eq(g(v),(Min(1,v)-Max(y,v-1))/(1-y))\n",
    "\n",
    "Eq3 = sy.Eq(p(x,y),\n",
    "            (exp(x)*(1 - x)* (1 - exp(y)*(1 - y)) +  \n",
    "             sy.integrate(f(u)*g(v), (v, y, u),(u, Max(x, y), 2)) *\n",
    "             exp(x)* (1 - x)*exp(y)* (1 - y)) / (1 - (1 - exp(x)* (1 - x))* (1 - exp(y)* (1 - y)))\n",
    "            )\n",
    "\n",
    "display(Eq3.subs(Eq1.lhs,Eq1.rhs).subs(Eq2.lhs,Eq2.rhs))"
   ]
  },
  {
   "cell_type": "code",
   "execution_count": 8,
   "metadata": {},
   "outputs": [
    {
     "name": "stdout",
     "output_type": "stream",
     "text": [
      "Eq(p(x, y), Piecewise(((-(x - 1)*((1 - y)*exp(y) - 1)*(x*y - x - y + 1)*exp(x) + (24*x*y*(y - 1)*(x*y - x - y + 1)*(Min(2, x + 1) - Min(2, Max(x, Min(Max(1, Min(y, x + 1)), Max(Min(1, y), Min(x + 1, Max(1, y)))))) + Min(2, Max(1, x, Min(y, x + 1))) - 2) + 24*x*(x - 1)*(y - 1)*(2*y - (y + 1)*Min(2, x + 1) + 2) - 6*y*(x - 1)*(y - 1)*(24*x + 12*y - (2*x + y)*Min(2, x)**2 - 3*(2*x + y)*Min(2, x + 1)**2 + (2*x + y)*Min(2, Max(1, x))**2 - (2*x + y)*Min(2, Max(x, Min(x + 1, Max(1, y))))**2 + (2*x + y)*Min(2, Max(x, Min(Max(1, Min(y, x + 1)), Max(Min(1, y), Min(x + 1, Max(1, y))))))**2) - 12*(x - 1)*(y - 1)*(x*y - x - y + 1)*(2*y*Min(2, Max(1, x)) - 2*y*Min(2, Max(1, x, Min(y, x + 1))) + (y + 1)*Min(2, Max(1, x, Min(y, x + 1))) - (y + 1)*Min(2, Max(1, x, Min(x + 1, y + 1))) - Min(2, Max(1, x))**2 + Min(2, Max(1, x, Min(x + 1, y + 1)))**2) + 3*(x - 1)*(y - 1)*(Min(2, x)**4 + 4*Min(2, x + 1)**4 - Min(2, Max(1, x))**4 + Min(2, Max(x, Min(x + 1, Max(1, y))))**4 - Min(2, Max(x, Min(Max(1, Min(y, x + 1)), Max(Min(1, y), Min(x + 1, Max(1, y))))))**4 - 64) + 4*(x - 1)*(y - 1)*(32*x + 48*y - (x + 4)*Min(2, x + 1)**3 - (x + 2*y)*Min(2, x)**3 - 3*(x + 2*y)*Min(2, x + 1)**3 + (x + 2*y)*Min(2, Max(1, x))**3 - (x + 2*y)*Min(2, Max(x, Min(x + 1, Max(1, y))))**3 + (x + 2*y)*Min(2, Max(x, Min(Max(1, Min(y, x + 1)), Max(Min(1, y), Min(x + 1, Max(1, y))))))**3 + 32) - 12*(x - 1)*(y - 1)*(x*y**2*Min(2, x) + 3*x*y**2*Min(2, x + 1) - x*y**2*Min(2, Max(1, x)) + x*y**2*Min(2, Max(x, Min(x + 1, Max(1, y)))) - x*y**2*Min(2, Max(x, Min(Max(1, Min(y, x + 1)), Max(Min(1, y), Min(x + 1, Max(1, y)))))) - 6*x*y**2 + 8*x + 4*y - (2*x + y + 1)*Min(2, x + 1)**2 + 4) - 4*(x - 1)*(x*y - x - y + 1)*(Min(2, x + 1)**3 + Min(2, Max(x, Min(x + 1, Max(1, y))))**3 - Min(2, Max(1, x, Min(y, x + 1)))**3 - Min(2, Max(1, x, Min(x + 1, y + 1)))**3) - 24*(x - 1)*(x*y - x - y + 1)*((y + 1)*Min(2, x + 1) + (y + 1)*Min(2, Max(x, Min(x + 1, Max(1, y)))) - (y + 1)*Min(2, Max(1, x, Min(y, x + 1))) - (y + 1)*Min(2, Max(1, x, Min(x + 1, y + 1))) - Min(2, x + 1)**2 - Min(2, Max(x, Min(x + 1, Max(1, y))))**2 + Min(2, Max(1, x, Min(y, x + 1)))**2 + Min(2, Max(1, x, Min(x + 1, y + 1)))**2) + 8*(y - 1)*(x*y - x - y + 1)*(Min(2, x + 1)**3 - Min(2, Max(x, Min(Max(1, Min(y, x + 1)), Max(Min(1, y), Min(x + 1, Max(1, y))))))**3 + Min(2, Max(1, x, Min(y, x + 1)))**3 - 8) + 12*(y - 1)*(x*y - x - y + 1)*(4*x + 4*y - (x + y)*Min(2, x + 1)**2 + (x + y)*Min(2, Max(x, Min(Max(1, Min(y, x + 1)), Max(Min(1, y), Min(x + 1, Max(1, y))))))**2 - (x + y)*Min(2, Max(1, x, Min(y, x + 1)))**2))*exp(x + y)/24)/((((x - 1)*exp(x) + 1)*((y - 1)*exp(y) + 1) - 1)*(x*y - x - y + 1)), (x >= y) & (y <= 1)), ((-(x - 1)*((1 - y)*exp(y) - 1)*(x*y - x - y + 1)*exp(x) + (24*x*y*(y - 1)*(Min(2, Max(y, x + 1)) - 2)*(x*y - x - y + 1) + 24*x*(x - 1)*(y - 1)*(2*y - (y + 1)*Min(2, Max(y, x + 1)) + 2) - 6*y*(x - 1)*(y - 1)*(24*x + 12*y - (2*x + y)*Min(2, y)**2 + (2*x + y)*Min(2, Max(1, y))**2 - 3*(2*x + y)*Min(2, Max(y, x + 1))**2) - 12*(x - 1)*(y - 1)*(x*y - x - y + 1)*((y + 1)*Min(2, Max(1, y)) - (y + 1)*Min(2, Max(1, y, Min(x + 1, y + 1))) - Min(2, Max(1, y))**2 + Min(2, Max(1, y, Min(x + 1, y + 1)))**2) + 3*(x - 1)*(y - 1)*(Min(2, y)**4 - Min(2, Max(1, y))**4 + 4*Min(2, Max(y, x + 1))**4 - 64) + 4*(x - 1)*(y - 1)*(32*x + 48*y - (x + 4)*Min(2, Max(y, x + 1))**3 - (x + 2*y)*Min(2, y)**3 + (x + 2*y)*Min(2, Max(1, y))**3 - 3*(x + 2*y)*Min(2, Max(y, x + 1))**3 + 32) - 12*(x - 1)*(y - 1)*(x*y**2*Min(2, y) - x*y**2*Min(2, Max(1, y)) + 3*x*y**2*Min(2, Max(y, x + 1)) - 6*x*y**2 + 8*x + 4*y - (2*x + y + 1)*Min(2, Max(y, x + 1))**2 + 4) - 4*(x - 1)*(Min(2, Max(y, x + 1))**3 - Min(2, Max(1, y, Min(x + 1, y + 1)))**3)*(x*y - x - y + 1) - 24*(x - 1)*(x*y - x - y + 1)*((y + 1)*Min(2, Max(y, x + 1)) - (y + 1)*Min(2, Max(1, y, Min(x + 1, y + 1))) - Min(2, Max(y, x + 1))**2 + Min(2, Max(1, y, Min(x + 1, y + 1)))**2) + 8*(y - 1)*(Min(2, Max(y, x + 1))**3 - 8)*(x*y - x - y + 1) + 12*(y - 1)*(4*x + 4*y - (x + y)*Min(2, Max(y, x + 1))**2)*(x*y - x - y + 1))*exp(x + y)/24)/((((x - 1)*exp(x) + 1)*((y - 1)*exp(y) + 1) - 1)*(x*y - x - y + 1)), y <= 1), ((-(x - 1)*((1 - y)*exp(y) - 1)*(x*y - x - y + 1)*exp(x) + (24*x*y*(y - 1)*(Min(2, Max(1, x)) - Min(2, Max(x, Min(1, y))))*(x*y - x - y + 1) + 12*x*(x - 1)*(y - 1)*(4*y**2 - 4*y - (2*y**2 - 2*y + 1)*Min(2, x) - (2*y**2 - 2*y + 1)*Min(2, x + 1) + (2*y**2 - 2*y + 1)*Min(2, Max(x, Min(1, y))) - (2*y**2 - 2*y + 1)*Min(2, Max(x, Min(x + 1, Max(1, y)))) + (2*y**2 - 2*y + 1)*Min(2, Max(1, x, Min(y, x + 1))) + 2) - 12*(x - 1)*(y - 1)*(x*y - x - y + 1)*(2*y*Min(2, Max(1, x)) - 2*y*Min(2, Max(1, x, Min(x + 1, y + 1))) - Min(2, Max(1, x))**2 + Min(2, Max(1, x, Min(x + 1, y + 1)))**2) + 3*(x - 1)*(y - 1)*(Min(2, x)**4 + Min(2, x + 1)**4 - Min(2, Max(x, Min(1, y)))**4 + Min(2, Max(x, Min(x + 1, Max(1, y))))**4 - Min(2, Max(1, x, Min(y, x + 1)))**4 - 16) + 4*(x - 1)*(y - 1)*(8*x + 16*y - (x + 2*y)*Min(2, x)**3 - (x + 2*y)*Min(2, x + 1)**3 + (x + 2*y)*Min(2, Max(x, Min(1, y)))**3 - (x + 2*y)*Min(2, Max(x, Min(x + 1, Max(1, y))))**3 + (x + 2*y)*Min(2, Max(1, x, Min(y, x + 1)))**3) - 6*(x - 1)*(y - 1)*(8*x*y + 8*y**2 - 8*y + (-2*x*y - 2*y**2 + 2*y - 1)*Min(2, x)**2 + (-2*x*y - 2*y**2 + 2*y - 1)*Min(2, x + 1)**2 + (-2*x*y - 2*y**2 + 2*y - 1)*Min(2, Max(x, Min(x + 1, Max(1, y))))**2 + (2*x*y + 2*y**2 - 2*y + 1)*Min(2, Max(x, Min(1, y)))**2 + (2*x*y + 2*y**2 - 2*y + 1)*Min(2, Max(1, x, Min(y, x + 1)))**2 + 4) - 12*(x - 1)*(-y**2 + 4*y + 1)*(x*y - x - y + 1)*(Min(2, x + 1) + Min(2, Max(x, Min(x + 1, Max(1, y)))) - Min(2, Max(1, x, Min(y, x + 1))) - Min(2, Max(1, x, Min(x + 1, y + 1)))) + 24*(x - 1)*(x*y - x - y + 1)*(Min(2, x + 1)**2 + Min(2, Max(x, Min(x + 1, Max(1, y))))**2 - Min(2, Max(1, x, Min(y, x + 1)))**2 - Min(2, Max(1, x, Min(x + 1, y + 1)))**2) - 4*(x - 1)*(x*y - x - y + 1)*(Min(2, x + 1)**3 + Min(2, Max(x, Min(x + 1, Max(1, y))))**3 - Min(2, Max(1, x, Min(y, x + 1)))**3 - Min(2, Max(1, x, Min(x + 1, y + 1)))**3) - 12*(x + y)*(y - 1)*(Min(2, Max(1, x))**2 - Min(2, Max(x, Min(1, y)))**2)*(x*y - x - y + 1) + 8*(y - 1)*(Min(2, Max(1, x))**3 - Min(2, Max(x, Min(1, y)))**3)*(x*y - x - y + 1))*exp(x + y)/24)/((((x - 1)*exp(x) + 1)*((y - 1)*exp(y) + 1) - 1)*(x*y - x - y + 1)), x >= y), ((-(x - 1)*((1 - y)*exp(y) - 1)*(x*y - x - y + 1)*exp(x) + (-24*x*y*(y - 1)*(Min(2, y) - Min(2, Max(1, y)))*(x*y - x - y + 1) + 12*x*(x - 1)*(y - 1)*(4*y**2 - 4*y - (2*y**2 - 2*y + 1)*Min(2, Max(y, x + 1)) + 2) + 3*(x - 1)*(y - 1)*(Min(2, Max(y, x + 1))**4 - 16) + 4*(x - 1)*(y - 1)*(8*x + 16*y - (x + 2*y)*Min(2, Max(y, x + 1))**3) - 12*(x - 1)*(y - 1)*(x*y - x - y + 1)*(2*y*Min(2, Max(1, y)) - 2*y*Min(2, Max(1, y, Min(x + 1, y + 1))) - Min(2, Max(1, y))**2 + Min(2, Max(1, y, Min(x + 1, y + 1)))**2) - 6*(x - 1)*(y - 1)*(8*x*y + 8*y**2 - 8*y + (-2*x*y - 2*y**2 + 2*y - 1)*Min(2, Max(y, x + 1))**2 + 4) - 12*(x - 1)*(Min(2, Max(y, x + 1)) - Min(2, Max(1, y, Min(x + 1, y + 1))))*(-y**2 + 4*y + 1)*(x*y - x - y + 1) + 24*(x - 1)*(Min(2, Max(y, x + 1))**2 - Min(2, Max(1, y, Min(x + 1, y + 1)))**2)*(x*y - x - y + 1) - 4*(x - 1)*(Min(2, Max(y, x + 1))**3 - Min(2, Max(1, y, Min(x + 1, y + 1)))**3)*(x*y - x - y + 1) + 12*(x + y)*(y - 1)*(Min(2, y)**2 - Min(2, Max(1, y))**2)*(x*y - x - y + 1) - 8*(y - 1)*(Min(2, y)**3 - Min(2, Max(1, y))**3)*(x*y - x - y + 1))*exp(x + y)/24)/((((x - 1)*exp(x) + 1)*((y - 1)*exp(y) + 1) - 1)*(x*y - x - y + 1)), True)))\n"
     ]
    }
   ],
   "source": [
    "print(Eq3.subs(Eq1.lhs,Eq1.rhs).subs(Eq2.lhs,Eq2.rhs).rewrite(sy.Piecewise).doit().simplify())"
   ]
  },
  {
   "cell_type": "code",
   "execution_count": 9,
   "metadata": {},
   "outputs": [
    {
     "data": {
      "text/latex": [
       "$\\displaystyle p{\\left(x,y \\right)} = \\begin{cases} \\frac{\\left(x - 1\\right) \\left(\\left(- x^{3} + x^{2} + 4 x + 2 y^{3} - y^{2} \\cdot \\left(3 x - 3\\right) + 2 y \\left(x - 1\\right)^{2} - 6\\right) e^{y} + 12\\right) e^{x}}{12 \\left(x - 1\\right) e^{x} + 12 \\left(y - 1\\right) \\left(\\left(x - 1\\right) e^{x} + 1\\right) e^{y}} & \\text{for}\\: x \\geq y \\\\\\frac{\\left(12 x + \\left(y - 1\\right) \\left(- 2 x^{3} + 3 x^{2} \\left(y - 1\\right) - 2 x \\left(y \\left(y - 2\\right) - 5\\right) + \\left(y - 3\\right) \\left(y \\left(y + 2\\right) + 2\\right)\\right) e^{y} - 12\\right) e^{x}}{12 \\left(x - 1\\right) e^{x} + 12 \\left(y - 1\\right) \\left(\\left(x - 1\\right) e^{x} + 1\\right) e^{y}} & \\text{otherwise} \\end{cases}$"
      ],
      "text/plain": [
       "Eq(p(x, y), Piecewise(((x - 1)*((-x**3 + x**2 + 4*x + 2*y**3 - y**2*(3*x - 3) + 2*y*(x - 1)**2 - 6)*exp(y) + 12)*exp(x)/(12*(x - 1)*exp(x) + 12*(y - 1)*((x - 1)*exp(x) + 1)*exp(y)), x >= y), ((12*x + (y - 1)*(-2*x**3 + 3*x**2*(y - 1) - 2*x*(y*(y - 2) - 5) + (y - 3)*(y*(y + 2) + 2))*exp(y) - 12)*exp(x)/(12*(x - 1)*exp(x) + 12*(y - 1)*((x - 1)*exp(x) + 1)*exp(y)), True)))"
      ]
     },
     "metadata": {},
     "output_type": "display_data"
    }
   ],
   "source": [
    "# Couldn't get any further with Sympy\n",
    "# but the solution using mathematica is\n",
    "\n",
    "Eq4 = Eq(p(x,y),sy.Piecewise(\n",
    "                (\n",
    "                (exp(x)*(x - 1)*(exp(y)*(-x**3 + x**2 - 3*(x - 1)*y**2 + 2*(x - 1)**2*y + 4*x + 2*y**3 - 6) + 12))/\n",
    "                ((12*(exp(x)*(x - 1) + exp(y)*((y - 1))*(exp(x)*(x - 1) + 1)))),\n",
    "            x>=y),\n",
    "                (\n",
    "                (exp(x)*((exp(y)*(y - 1)*(-2*x**3 + 3*x**2*(y-1) - 2*x*((y-2)*y-5) + (y-3)*(y*(y+2)+2))) + 12*(x - 1)))/\n",
    "                (12*((exp(x)*(x-1)+1)*exp(y)*(y-1)+exp(x)*(x-1))),\n",
    "            x<y)\n",
    "                  ))\n",
    "           \n",
    "display(Eq4)"
   ]
  },
  {
   "cell_type": "code",
   "execution_count": 10,
   "metadata": {},
   "outputs": [
    {
     "data": {
      "text/latex": [
       "$\\displaystyle \\left[\\begin{matrix}0.416195354858236\\\\0.416195354858236\\end{matrix}\\right]$"
      ],
      "text/plain": [
       "Matrix([\n",
       "[0.416195354858236],\n",
       "[0.416195354858236]])"
      ]
     },
     "execution_count": 10,
     "metadata": {},
     "output_type": "execute_result"
    }
   ],
   "source": [
    "# find the turning point to get the best strategy\n",
    "strategy = sy.nsolve([Eq4.rhs.diff(x), Eq4.rhs.diff(y)], [x, y],(0.5,0.5))\n",
    "strategy"
   ]
  },
  {
   "cell_type": "code",
   "execution_count": 11,
   "metadata": {},
   "outputs": [
    {
     "data": {
      "text/markdown": [
       "**Solution is 0.114845886**"
      ],
      "text/plain": [
       "<IPython.core.display.Markdown object>"
      ]
     },
     "metadata": {},
     "output_type": "display_data"
    }
   ],
   "source": [
    "# turn that into the probability of going bust\n",
    "bust = lambda x: 1-((1-x)*math.exp(x))\n",
    "\n",
    "display(Markdown((\"**Solution is {:.9f}**\".format(bust(strategy[0])))))"
   ]
  },
  {
   "cell_type": "code",
   "execution_count": 12,
   "metadata": {},
   "outputs": [
    {
     "data": {
      "text/markdown": [
       "### Solution as published \n",
       "https://www.janestreet.com/puzzles/robot-long-jump-solution//"
      ],
      "text/plain": [
       "<IPython.core.display.Markdown object>"
      ]
     },
     "metadata": {},
     "output_type": "display_data"
    },
    {
     "data": {
      "text/html": [
       "<div class=\"puzzle-header col-12\">\n",
       "<div class=\"row section-header-wrapper\">\n",
       "<div class=\"col-12 col-md-7 col-xl-9\">\n",
       "<h3 class=\"title\">Robot Long Jump</h3>\n",
       "<h5>March 2023 : Solution</h5>\n",
       "</div>\n",
       "<div class=\"col-12 col-md-5 col-xl-3\">\n",
       "<div class=\"show-linkPath\">\n",
       "<a href=\"/puzzles/robot-long-jump-index\">\n",
       "<button class=\"primary-button secondary\">\n",
       "<span class=\"label\">Show Puzzle</span>\n",
       "</button>\n",
       "</a>\n",
       "</div>\n",
       "</div>\n",
       "</div>\n",
       "</div><div class=\"col-12\">\n",
       "<p>For March’s puzzle, you had to determine the Nash equilibrium of a\n",
       "tricky probabilistic model of Robot Long Jump. It turned out the\n",
       "optimal play involved waiting until a robot’s position was at least\n",
       "some threshold <em>x</em> and then jumping, where <em>x</em> satisfies the equation</p>\n",
       "<p>(<em>x</em><sup>3</sup> - 3<em>x</em> + 2)<em>e</em><sup><em>x</em></sup> = 3<em>x</em>.</p>\n",
       "<p>This threshold comes to ~0.416195355. Given that, the chance of any\n",
       "given round scoring a positive number is (1-<em>x</em>)<em>e</em><sup><em>x</em></sup>, and\n",
       "so the final answer is (1-(1-<em>x</em>)<em>e</em><sup><em>x</em></sup>) ~ <strong>0.114845886</strong>…</p>\n",
       "<p>Congrats to the solvers that successfully computed the strategy and\n",
       "this probability!</p>\n",
       "<div class=\"section-header-wrapper\">\n",
       "<h4 class=\"omit-as-of\" id=\"correct-submissions-from\"></h4>\n",
       "</div>\n",
       "<p class=\"correct-submissions margin-top-20\" data-directory=\"2023-03-01-robot-long-jump\"></p>\n",
       "</div>"
      ],
      "text/plain": [
       "<IPython.core.display.HTML object>"
      ]
     },
     "execution_count": 12,
     "metadata": {},
     "output_type": "execute_result"
    }
   ],
   "source": [
    "url='https://www.janestreet.com/puzzles/robot-long-jump-solution//'\n",
    "res = requests.get(url)\n",
    "soup = BeautifulSoup(res.content, 'html.parser')\n",
    "tags=soup.findAll('img')\n",
    "for match in tags:\n",
    "    match.decompose()\n",
    "\n",
    "display(Markdown('### Solution as published \\n'+url))\n",
    "HTML(str(soup.find_all('div', {'class' :'col-12'})[0])+str(soup.find_all('div', {'class' :'col-12'})[3]))\n"
   ]
  },
  {
   "cell_type": "code",
   "execution_count": null,
   "metadata": {},
   "outputs": [],
   "source": []
  }
 ],
 "metadata": {
  "kernelspec": {
   "display_name": "Python 3 (ipykernel)",
   "language": "python",
   "name": "python3"
  },
  "language_info": {
   "codemirror_mode": {
    "name": "ipython",
    "version": 3
   },
   "file_extension": ".py",
   "mimetype": "text/x-python",
   "name": "python",
   "nbconvert_exporter": "python",
   "pygments_lexer": "ipython3",
   "version": "3.9.12"
  }
 },
 "nbformat": 4,
 "nbformat_minor": 4
}
