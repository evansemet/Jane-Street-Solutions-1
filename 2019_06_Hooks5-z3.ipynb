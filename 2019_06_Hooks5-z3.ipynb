{
 "cells": [
  {
   "cell_type": "code",
   "execution_count": 1,
   "metadata": {
    "id": "Oq1xibzMT1Wl"
   },
   "outputs": [],
   "source": [
    "import numpy as np\n",
    "import pandas as pd\n",
    "import time\n",
    "import seaborn as sns\n",
    "import matplotlib.pyplot as plt\n",
    "import requests\n",
    "from bs4 import BeautifulSoup\n",
    "import itertools\n",
    "from z3 import *\n",
    "from scipy.ndimage import measurements\n",
    "from IPython.display import Markdown, display,Image,HTML"
   ]
  },
  {
   "cell_type": "code",
   "execution_count": 2,
   "metadata": {
    "id": "ICTfvjZUT1Wr"
   },
   "outputs": [
    {
     "data": {
      "text/markdown": [
       "The grid presented here can be partitioned into 9 L-shaped “hooks”. The largest\n",
       "is 9-by-9 (contains 17 squares), the next largest is 8-by-8 (contains 15\n",
       "squares), and so on. The smallest hook is just a single square. Find where the\n",
       "hooks are located, and place nine 9’s in the largest hook, eight 8’s in the\n",
       "next-largest, etc., down to one 1 in the smallest hook. The filled squares must form a connected region. (Squares are “connected” if\n",
       "they are orthogonally adjacent.) A number outside the grid indicates the sum of the first consecutive block of\n",
       "filled squares when looking in that direction. (As shown in the example.)\n",
       "Furthermore, every 2-by-2 region must contain at least one unfilled square. The answer to this puzzle is the product of the areas of the connected groups of\n",
       "empty squares in the completed grid."
      ],
      "text/plain": [
       "<IPython.core.display.Markdown object>"
      ]
     },
     "metadata": {},
     "output_type": "display_data"
    }
   ],
   "source": [
    "url='https://www.janestreet.com/puzzles/hooks-5-index/'\n",
    "res = requests.get(url)\n",
    "soup = BeautifulSoup(res.content, 'html.parser')\n",
    "x =[text for text in soup.body.stripped_strings]\n",
    "#display([(i,j) for i,j in enumerate(x)])\n",
    "display(Markdown(\" \".join(x[11:15])))"
   ]
  },
  {
   "cell_type": "markdown",
   "metadata": {
    "id": "U9Yh1D3HT1Ws"
   },
   "source": [
    "### Puzzle details\n",
    "<img src=\"https://www.janestreet.com/puzzles/hooks_5.png\" width=\"300\" height=\"300\">"
   ]
  },
  {
   "cell_type": "code",
   "execution_count": 3,
   "metadata": {
    "id": "0VI0NM6ET1Wt"
   },
   "outputs": [],
   "source": [
    "#Setup the constraints\n",
    "top_labels  = [41, 8, 0, 0,14, 0,15, 0, 0]\n",
    "bot_labels  = [ 0, 9, 0,17, 0,15, 0,35, 0]\n",
    "left_labels = [ 0, 0,25, 0,15, 0,26, 0, 0]\n",
    "right_labels =[25, 0, 0, 0,10, 0, 0, 0,27]\n",
    "params = [top_labels,bot_labels,left_labels,right_labels]"
   ]
  },
  {
   "cell_type": "code",
   "execution_count": 4,
   "metadata": {
    "id": "844RhDFpT1Wu"
   },
   "outputs": [],
   "source": [
    "def sol_print(solved,matrix):\n",
    "    fig,ax = plt.subplots(1,1,figsize=(4,4))\n",
    "    x = np.array((solved*matrix).astype('int').astype('str'))\n",
    "    x[x==\"0\"] =\"\"\n",
    "    ax =sns.heatmap(solved,annot=x,cbar=False,cmap=\"tab10\",fmt=\"\",linewidths=2,linecolor='k',annot_kws={\"fontsize\":12,\"color\":\"k\"},alpha=.6)\n",
    "    ax.tick_params(left=False, bottom=False,labelleft=False, labelright=True)\n",
    "    ax.axis(\"off\")\n",
    "    plt.tight_layout()\n",
    "    plt.show()"
   ]
  },
  {
   "cell_type": "code",
   "execution_count": 5,
   "metadata": {
    "id": "844RhDFpT1Wu"
   },
   "outputs": [],
   "source": [
    "def neigh(x,y,N):\n",
    "    return [(i+x,j+y) for i,j in [(-1,0),(0,-1),(1,0),(0,1)] if i+x >=0 and i+x <N and j+y >=0 and j+y <N]\n",
    "\n",
    "def areas(grid):\n",
    "    labels, num = measurements.label(np.logical_not(grid!=0))\n",
    "    areas = measurements.sum(np.logical_not(grid!=0), labels, index=range(1, num+1))\n",
    "    print(areas)\n",
    "    return np.prod(areas)\n",
    "\n",
    "def numbers(split,line,hook_line):\n",
    "    block = 0\n",
    "    inblock =0\n",
    "    for n,p in enumerate(split):         \n",
    "        if p ==1:\n",
    "            if inblock == 0:\n",
    "                block += line[n]*hook_line[n]\n",
    "                inblock = 1\n",
    "            else:\n",
    "                block += line[n]*hook_line[n]         \n",
    "        else:\n",
    "            if inblock == 1:\n",
    "                yield block\n",
    "                block = 0\n",
    "                inblock = 0                    \n",
    "    if inblock == 1:\n",
    "        yield block\n",
    "            \n",
    "def constraint(line,hook_line,split,param):\n",
    "    nums =[i for i in numbers(split,line,hook_line)]\n",
    "    return Implies(And([line[i] == int(e) for i,e in enumerate(split)]),nums[0] == param)"
   ]
  },
  {
   "cell_type": "code",
   "execution_count": 6,
   "metadata": {
    "colab": {
     "base_uri": "https://localhost:8080/",
     "height": 374
    },
    "id": "zexQ8t1kT1W3",
    "outputId": "7c2aec4e-d2fb-45d8-fc7e-679051faafed"
   },
   "outputs": [
    {
     "name": "stdout",
     "output_type": "stream",
     "text": [
      "setup done in 8.30 seconds\n"
     ]
    },
    {
     "data": {
      "image/png": "[encoded data removed]",
      "text/plain": [
       "<Figure size 288x288 with 1 Axes>"
      ]
     },
     "metadata": {
      "needs_background": "light"
     },
     "output_type": "display_data"
    },
    {
     "name": "stdout",
     "output_type": "stream",
     "text": [
      "Took 19.4440 seconds\n",
      "[5. 5. 5. 5. 1. 5. 5. 5.]\n",
      "solution is 78,125\n"
     ]
    }
   ],
   "source": [
    "start = time.time()\n",
    "N =9\n",
    "#set up the solver and variables.\n",
    "s = Tactic(\"qffd\").solver()\n",
    "\n",
    "# H== hooks\n",
    "H = np.array(IntVector(\"h\",N**2),dtype=object).reshape((N,N))\n",
    "\n",
    "row_fix =IntVector(\"r\",N)\n",
    "col_fix =IntVector(\"c\",N)\n",
    "\n",
    "s += [And(e>0,e<=N) for (i,j),e in np.ndenumerate(H)]\n",
    "s += [And(e>=0,e<N) for e in row_fix+col_fix]\n",
    "\n",
    "s += Distinct(row_fix)\n",
    "s += Distinct(col_fix)\n",
    "\n",
    "for n in range(1,N+1):\n",
    "    s+=PbEq([(e==n,1) for _,e in np.ndenumerate(H)],2*n-1)\n",
    "    if n!=1:\n",
    "        s+=PbEq([(If(e==int(n),Sum([H[k,l] ==int(n) for k,l in neigh(i,j,N)]),0)==1,1) for (i,j),e in np.ndenumerate(H)],2)\n",
    "        \n",
    "for n in range(N):\n",
    "    s += [Implies(e == int(n+1),Or(i == row_fix[n],j == col_fix[n])) for (i,j),e in np.ndenumerate(H)]\n",
    "    \n",
    "\n",
    "# Y = filled    \n",
    "Y = np.array(IntVector(\"y\",N**2),dtype=object).reshape((N,N))\n",
    "s += [Or(e==0,e==1) for (i,j),e in np.ndenumerate(Y)]\n",
    "\n",
    "for n in range(1,N+1):\n",
    "    s+=PbEq([(And(e==n,Y[i,j]==1),1) for (i,j),e in np.ndenumerate(H)],n)\n",
    "\n",
    "# no 2x2\n",
    "s += [Or(Y[i,j] ==0,Y[i+1,j] ==0,Y[i,j+1] ==0,Y[i+1,j+1] ==0) for j in range(N-1) for i in range(N-1)]\n",
    "    \n",
    "edge ={}\n",
    "Z = np.array(IntVector('z', N*N),dtype=object).reshape(N,N)\n",
    "\n",
    "# create edges and variable to define order in connectivity tree\n",
    "for i in range(N):\n",
    "    for j in range(N):  \n",
    "        for (k,l) in neigh(i,j,N):\n",
    "            edge[(i,j,k,l)] = Int(\"e%d%d%d%d\" % (i,j,k,l))\n",
    "            s+=Or(edge[(i,j,k,l)] ==0,edge[(i,j,k,l)] ==1)\n",
    "\n",
    "# no edges into or out of unfilled cells. Only one edge per cell     \n",
    "for i in range(N):\n",
    "    for j in range(N):       \n",
    "        s += Implies(Y[i,j] ==0 , Sum([edge[(k,l,i,j)] for (k,l) in neigh(i,j,N)]) == 0)\n",
    "        s += Implies(Y[i,j] ==0 , Sum([edge[(i,j,k,l)] for (k,l) in neigh(i,j,N)]) == 0)\n",
    "        s += Implies(Y[i,j] > 0 , Sum([edge[(k,l,i,j)] for (k,l) in neigh(i,j,N)]) <= 1)\n",
    "        for (k,l) in neigh(i,j,N):\n",
    "            # Make edges one way to form a tree\n",
    "            s += (edge[(i,j,k,l)] + edge[(k,l,i,j)]) <= 1\n",
    "\n",
    "    # limit the order values\n",
    "    s += [And(e>= 0 ,e <=int(N*N)) for (i,j),e in np.ndenumerate(Z)]\n",
    "\n",
    "    # order is ascending along edges\n",
    "    for i in range(N):\n",
    "        for j in range(N):            \n",
    "            s += [Implies(And(Y[i,j]!=0,edge[(k,l,i,j)]==1),Z[i,j] > Z[k,l]) for (k,l) in neigh(i,j,N)]\n",
    "\n",
    "    # only one cell with no feed in => root\n",
    "    s += PbEq([(And(Y[i,j] != 0,Sum([edge[(k,l,i,j)] for (k,l) in neigh(i,j,N) ]) == 0),1) for i in range(N) for j in range(N)],1)\n",
    "\n",
    "    \n",
    "for i,p in enumerate(params[0]):\n",
    "    if p >0:\n",
    "        for shape in itertools.product([0,1],repeat=N):\n",
    "            if np.sum(shape)> 1 :\n",
    "                s +=constraint(Y[:,i],H[:,i],shape,p)\n",
    "\n",
    "for i,p in enumerate(params[1]):\n",
    "    if p >0:\n",
    "        for shape in itertools.product([0,1],repeat=N):\n",
    "            if np.sum(shape)> 1 :\n",
    "                s +=constraint(Y[::-1,i],H[::-1,i],shape,p)\n",
    "                \n",
    "for i,p in enumerate(params[2]):\n",
    "    if p >0:\n",
    "        for shape in itertools.product([0,1],repeat=N):\n",
    "            if np.sum(shape)> 1 :\n",
    "                s +=constraint(Y[i,:],H[i,:],shape,p)\n",
    "                \n",
    "for i,p in enumerate(params[3]):\n",
    "    if p >0:\n",
    "        for shape in itertools.product([0,1],repeat=N):\n",
    "            if np.sum(shape)> 1 :\n",
    "                s +=constraint(Y[i,::-1],H[i,::-1],shape,p)\n",
    "               \n",
    "print(\"setup done in {:.2f} seconds\".format(time.time()-start))       \n",
    "if s.check() == sat:\n",
    "    m = s.model()\n",
    "    evalu = np.vectorize(lambda x:m.evaluate(x).as_long())\n",
    "    result_x =  evalu(H)\n",
    "    result_y =  evalu(Y)\n",
    "    sol_print(result_x,result_y)\n",
    "    print(\"Took {:.4f} seconds\".format(time.time()- start))\n",
    "    soln = result_x*result_y\n",
    "    print(\"solution is {:,.0f}\".format(areas(soln)))\n",
    "else:\n",
    "    print(\"Fail\")"
   ]
  },
  {
   "cell_type": "code",
   "execution_count": 11,
   "metadata": {},
   "outputs": [
    {
     "data": {
      "text/markdown": [
       "The completed grid is shown above. The product of the areas of the regions of blank squares is 78125 . Congrats to everyone who solved this month’s puzzle!"
      ],
      "text/plain": [
       "<IPython.core.display.Markdown object>"
      ]
     },
     "metadata": {},
     "output_type": "display_data"
    }
   ],
   "source": [
    "url='https://www.janestreet.com/puzzles/hooks-5-solution/'\n",
    "res = requests.get(url)\n",
    "soup = BeautifulSoup(res.content, 'html.parser')\n",
    "x =[text for text in soup.body.stripped_strings]\n",
    "#display([(i,j) for i,j in enumerate(x)])\n",
    "display(Markdown(\" \".join(x[11:15])))"
   ]
  },
  {
   "cell_type": "markdown",
   "metadata": {
    "id": "ld_NFUIfT1W9"
   },
   "source": [
    "### Puzzle solution\n",
    "<img src=\"https://www.janestreet.com/puzzles/20190701_hooks_5_sol.png\" width=\"250\" height=\"400\">\n",
    "\n"
   ]
  },
  {
   "cell_type": "code",
   "execution_count": null,
   "metadata": {},
   "outputs": [],
   "source": []
  }
 ],
 "metadata": {
  "colab": {
   "include_colab_link": true,
   "name": "JaneSt-Feb18.ipynb",
   "provenance": []
  },
  "kernelspec": {
   "display_name": "Python 3 (ipykernel)",
   "language": "python",
   "name": "python3"
  },
  "language_info": {
   "codemirror_mode": {
    "name": "ipython",
    "version": 3
   },
   "file_extension": ".py",
   "mimetype": "text/x-python",
   "name": "python",
   "nbconvert_exporter": "python",
   "pygments_lexer": "ipython3",
   "version": "3.9.12"
  },
  "vscode": {
   "interpreter": {
    "hash": "aee8b7b246df8f9039afb4144a1f6fd8d2ca17a180786b69acc140d282b71a49"
   }
  }
 },
 "nbformat": 4,
 "nbformat_minor": 4
}
