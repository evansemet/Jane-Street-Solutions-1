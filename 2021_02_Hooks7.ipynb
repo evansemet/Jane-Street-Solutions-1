{
 "cells": [
  {
   "cell_type": "code",
   "execution_count": 1,
   "metadata": {
    "id": "Oq1xibzMT1Wl"
   },
   "outputs": [],
   "source": [
    "import numpy as np\n",
    "import pandas as pd\n",
    "import time\n",
    "import seaborn as sns\n",
    "import matplotlib.pyplot as plt\n",
    "import requests\n",
    "from bs4 import BeautifulSoup\n",
    "import itertools\n",
    "from copy import deepcopy as dcopy,copy\n",
    "from skimage.morphology import label\n",
    "from scipy.ndimage import measurements\n",
    "from scipy.signal import convolve2d\n",
    "import sys\n",
    "import numba as nb\n",
    "from IPython.display import Markdown, display"
   ]
  },
  {
   "cell_type": "code",
   "execution_count": 2,
   "metadata": {
    "id": "ICTfvjZUT1Wr"
   },
   "outputs": [
    {
     "data": {
      "text/markdown": [
       "### Hooks #7\n",
       "\n",
       "Show Solution\n",
       "The grid above can be partitioned into 9 L-shaped “hooks”. The largest\n",
       "is 9-by-9 (contains 17 squares), the next largest is 8-by-8 (contains\n",
       "15 squares), and so on. The smallest hook is just a single square.\n",
       "Find where the hooks are located, and place nine 9’s in the largest\n",
       "hook, eight 8’s in the next-largest, etc., down to one 1 in the\n",
       "smallest hook.\n",
       "The filled squares must form a connected region. (Squares are\n",
       "“connected” if they are orthogonally adjacent.) Furthermore, every\n",
       "2-by-2 region must contain at least one unfilled square."
      ],
      "text/plain": [
       "<IPython.core.display.Markdown object>"
      ]
     },
     "metadata": {},
     "output_type": "display_data"
    }
   ],
   "source": [
    "# Hooks again but quite different to the previous ones.\n",
    "# 19 regions each which must add up to 15\n",
    "# same approch as hooks #5 &#6\n",
    "# -run through the hook placements to see which are allowed\n",
    "# -for each hook placement check the ones that are forced by \n",
    "#  the constraints\n",
    "# -solve the final cells with backtracking\n",
    "# using old code from hooks #6 but adding in some numba speed ups to the checks.\n",
    "# starting top right and looping cols then rows is much faster than starting top left\n",
    "# and looping rows then cols\n",
    "\n",
    "url='https://www.janestreet.com/puzzles/hooks-7-index/'\n",
    "res = requests.get(url)\n",
    "soup = BeautifulSoup(res.content, 'html.parser')\n",
    "y =[text for text in soup.body.stripped_strings]\n",
    "#display([(i,j) for i,j in enumerate(y)])\n",
    "display(Markdown(\"### \"+y[7]+\"\\n\\n\"+str(\"\\n\".join(y[9:12]))))"
   ]
  },
  {
   "cell_type": "markdown",
   "metadata": {
    "id": "U9Yh1D3HT1Ws"
   },
   "source": [
    "### Puzzle details\n",
    "<img src=\"https://www.janestreet.com/puzzles/20210217_hooks_7.png\" width=\"350\" height=\"300\">"
   ]
  },
  {
   "cell_type": "code",
   "execution_count": 2,
   "metadata": {
    "id": "0VI0NM6ET1Wt"
   },
   "outputs": [
    {
     "data": {
      "image/png": "[encoded data removed]",
      "text/plain": [
       "<Figure size 300x300 with 1 Axes>"
      ]
     },
     "metadata": {},
     "output_type": "display_data"
    }
   ],
   "source": [
    "# Setup the constraints\n",
    "# use 20 for the filled cells and treat as smaller \n",
    "# groups with a different total\n",
    "# then print the grid\n",
    "\n",
    "groups = np.array([[0 ,0 ,0 ,0 ,1 ,2 ,2 ,3 ,3 ],\n",
    "                   [0 ,0 ,6 ,0 ,1 ,2 ,3 ,3 ,4 ],\n",
    "                   [5 ,0 ,6 ,0 ,20,4 ,4 ,4 ,4 ],\n",
    "                   [5 ,5 ,6 ,6 ,0 ,4 ,8 ,9 ,9 ],\n",
    "                   [7 ,7 ,6 ,16,0 ,4 ,8 ,9 ,10],\n",
    "                   [18,7 ,16,16,15,8 ,8 ,10,10],\n",
    "                   [18,18,16,15,20,15,8 ,11,11],\n",
    "                   [17,17,16,15,14,13,13,12,12],\n",
    "                   [17,17,16,15,14,13,13,12,12]                   \n",
    "                 ])\n",
    "\n",
    "fixed = np.array([[0,0,0,0,0,0,0,0,0],\n",
    "                  [0,0,0,0,0,0,0,0,0],\n",
    "                  [0,0,0,0,4,0,0,0,0],\n",
    "                  [0,0,0,0,0,0,0,0,0],\n",
    "                  [0,0,0,0,0,0,0,0,0],\n",
    "                  [0,0,0,0,0,0,0,0,0],\n",
    "                  [0,0,0,0,5,0,0,0,0],\n",
    "                  [0,0,0,0,0,0,0,0,0],\n",
    "                  [0,0,0,0,0,0,0,0,0]\n",
    "                 ])\n",
    "\n",
    "def grid_print(groups,numbers):\n",
    "    fig,ax = plt.subplots(1,1,figsize=(3,3))\n",
    "    x = np.array((numbers).astype('int').astype('str'))\n",
    "    x[x==\"0\"] =\"-\"\n",
    "    ax = sns.heatmap(groups,annot=x,cbar=False,cmap=\"tab20\",fmt=\"\",linewidths=1)\n",
    "    ax.axis(\"off\")\n",
    "    plt.tight_layout()\n",
    "    \n",
    "grid_print(groups,fixed)\n",
    "\n",
    "# use -1 to denote unfilled\n",
    "fixed[fixed==0] =-1"
   ]
  },
  {
   "cell_type": "code",
   "execution_count": 3,
   "metadata": {
    "colab": {
     "base_uri": "https://localhost:8080/",
     "height": 374
    },
    "id": "zexQ8t1kT1W3",
    "outputId": "7c2aec4e-d2fb-45d8-fc7e-679051faafed"
   },
   "outputs": [],
   "source": [
    "class Matrix():\n",
    "    def __init__(self,groups):\n",
    "        self.groups = groups\n",
    "        self.potential_grids = [[-9,np.ones((9,9),dtype=int)*-1,[0,0,9,9]]] # list of all grids not yet ruled out.[Level,grid,coordinates of the grid yet to be filled]\n",
    "        self.solution = []\n",
    "        self.totals =np.array([11,15,15,15,15,15,15,15,15,15,15,15,15,15,15,10,15,15,15],dtype=int)\n",
    "        self.splits ={}\n",
    "        self.end_flag = 0\n",
    "        # work out the possible permutations for each group\n",
    "        for i in range(19):\n",
    "            length = np.sum(groups==i)\n",
    "            self.splits[i] =  np.array([list(i) for i in itertools.product([0, 1], repeat=length)],dtype=int)\n",
    "     \n",
    "    #########################################################\n",
    "    # Code to get the initial valid grids \n",
    "    # add layer by layer until it is not possible to create the sum \n",
    "    # for every filled group\n",
    "    def add_layer(self,grid,coords,lvl,alignment):\n",
    "        row_start,col_start,row_end, col_end = coords\n",
    "    \n",
    "        if alignment == 0:\n",
    "            grid[row_start:row_end,col_start] =lvl\n",
    "            grid[row_start,col_start:col_end] =lvl\n",
    "            row_start +=1\n",
    "            col_start +=1\n",
    "    \n",
    "        elif alignment == 1:\n",
    "            grid[row_start:row_end,col_start] =lvl\n",
    "            grid[row_end-1,col_start:col_end] =lvl\n",
    "            row_end -=1\n",
    "            col_start +=1 \n",
    "\n",
    "        elif alignment == 2:\n",
    "            grid[row_start:row_end,col_end-1] =lvl\n",
    "            grid[row_start,col_start:col_end] =lvl\n",
    "            row_start +=1\n",
    "            col_end -=1\n",
    "        \n",
    "        else: # alignment == 3:\n",
    "            grid[row_start:row_end,col_end-1] =lvl\n",
    "            grid[row_end-1,col_start:col_end] =lvl\n",
    "            row_end -=1\n",
    "            col_end -=1 \n",
    "    \n",
    "        coords = [row_start,col_start,row_end, col_end]\n",
    "        \n",
    "        return grid,coords\n",
    "    \n",
    "    def check_grid(self,grid):\n",
    "        # check the 2 fixed numbers\n",
    "        if (grid[2,4] !=-1) & (grid[2,4] !=4):\n",
    "            return False\n",
    "        if (grid[6,4] != -1) &(grid[6,4] != 5):\n",
    "            return False\n",
    "        \n",
    "        for i in range(19):\n",
    "            group = grid[groups==i]\n",
    "            if -1 not in group:\n",
    "                if not self.check_group(group,self.totals[i],self.splits[i]):\n",
    "                    return False\n",
    "\n",
    "        return True\n",
    "    \n",
    "    @staticmethod\n",
    "    @nb.njit(fastmath=True)\n",
    "    def check_group(group,param,splits):\n",
    "        for split in splits:\n",
    "            test = group * split\n",
    "            if np.sum(test) == param:\n",
    "                return True\n",
    "        return False\n",
    "    \n",
    "    @staticmethod\n",
    "    @nb.njit(fastmath=True)\n",
    "    def valid_group(pos,param):\n",
    "        if np.sum(pos) !=param:\n",
    "                return False\n",
    "        return True\n",
    "    \n",
    "    #########################################################\n",
    "    # Code to get the cells forced by the group params\n",
    "    # loop through all the splits for each group saving the valid ones\n",
    "    # for the digits common to all the valid plits set as forced\n",
    "    # done the 2 fixed cells manually\n",
    "    def forced_cells(self,hook):\n",
    "        forced = np.ones((9,9),dtype=int)*-1\n",
    "        forced[2,4] == 1\n",
    "        forced[6,4] == 1        \n",
    "        # loop through the params to determine forced cells\n",
    "        for i in range(19):\n",
    "            forced[self.groups==i] = self.forced_group(hook[self.groups==i],self.totals[i],self.splits[i])\n",
    "               \n",
    "        # Set the cell with 1 in as 1. Then loop through and fill in cells neeeded to ensure connectivity \n",
    "        forced[hook==1] =1\n",
    "        changes =1\n",
    "        while changes >0:\n",
    "\n",
    "            changes = 0\n",
    "            for i,j in itertools.product(range(9),range(9)):\n",
    "                if forced[i,j] == -1:\n",
    "                    test =forced*hook\n",
    "                    test[i,j] = 0\n",
    "                    if np.max(label(test!=0,connectivity=1)) > 1:\n",
    "                    #if placing zero would break connectivity set 1\n",
    "                        forced[i,j]=1\n",
    "                        changes =1\n",
    "        \n",
    "        test =forced*hook\n",
    "        # check that the forced cells do not violate the count\n",
    "        for i in range(1,10):\n",
    "            if np.sum(test==i) > i:\n",
    "                return 0,forced\n",
    "            \n",
    "        # check that the forced cells do not violate 2x2\n",
    "        if self.twobytwo(test):\n",
    "            return 0,forced\n",
    "        \n",
    "        # check that the forced cells do not violate connectivity\n",
    "        if np.max(label(forced!=0,connectivity=1)) > 1:\n",
    "            return 0,forced\n",
    "    \n",
    "        return  1,forced\n",
    "    \n",
    "    def forced_group(self,group,param,splits):\n",
    "        # loop through every split.Save the valid ones an then determine \n",
    "        # if any entries are common to all valid splits\n",
    "        poss_group =[]\n",
    "        length = len(splits[0])\n",
    "        for split in splits:\n",
    "            test = group * split\n",
    "            if self.valid_group(test,param):\n",
    "                    poss_group.append(split)\n",
    "        poss_array = np.array(poss_group)\n",
    "        forced = np.ones(length,dtype=int)*-1\n",
    "        for i in range(length):\n",
    "            if np.all(poss_array[:,i]==1):\n",
    "                forced[i] =1\n",
    "            elif np.all(poss_array[:,i]==0):\n",
    "                forced[i] =0\n",
    "        return forced\n",
    "    \n",
    "    def twobytwo(self, grid):\n",
    "        return np.any(convolve2d(grid > 0, np.ones((2, 2)), mode='valid') == 4)\n",
    "    \n",
    "    ########################################################\n",
    "    # Fill the final cells by backtracking\n",
    "    def fill_rest(self,grid,hooks):\n",
    "        for col,row in itertools.product(range(8,-1,-1),range(9)):\n",
    "            if grid[row,col]==-1:\n",
    "                for digit in range(2):\n",
    "                    if self.possible(digit,row,col,grid,hooks):\n",
    "                        grid[row,col] = digit\n",
    "                        self.fill_rest(grid,hooks)\n",
    "                        grid[row,col] = -1\n",
    "                return\n",
    "        sol_print(grid,hooks,self.groups)\n",
    "        print(\"The product of the areas is : {:,.0f}\".format(self.areas(grid)))\n",
    "        self.end_flag = 1\n",
    "             \n",
    "    def possible(self,digit,row,col,grid,hooks):\n",
    "        test = grid*hooks\n",
    "        test[row,col] = hooks[row,col]*digit\n",
    "    \n",
    "    #check the placement doesn't break connectivity\n",
    "        if np.max(label(test!=0,connectivity=1)) > 1:\n",
    "            return False\n",
    "        \n",
    "    #check the placement doesn't break 2 by 2\n",
    "        if self.twobytwo(test):\n",
    "            return False\n",
    "    \n",
    "     #check the placement doesn't exceed the permitted count of that number\n",
    "        if not self.count(test):\n",
    "            return False\n",
    "                \n",
    "    #check groups\n",
    "        if not self.group_count(test,self.totals,self.groups):\n",
    "            return False\n",
    "        return True\n",
    "    \n",
    "    @staticmethod\n",
    "    @nb.njit(fastmath=True)\n",
    "    def count(grid):\n",
    "        for num in range(2,10):\n",
    "            if np.sum(grid == num) > num:\n",
    "                   return False\n",
    "        return True\n",
    "    \n",
    "    @staticmethod\n",
    "    @nb.njit(fastmath=True)\n",
    "    def group_count(grid,totals,groups):\n",
    "        for i in range(19):\n",
    "            group = np.ravel(grid)[np.ravel(groups)==i]\n",
    "            if np.all(group > -1):\n",
    "                if np.sum(group) != totals[i]:\n",
    "                    return False\n",
    "        return True\n",
    "            \n",
    "    ##############################################\n",
    "    # Get the products of the areas of the connected cells\n",
    "    def areas(self,grid):\n",
    "        labels, num = measurements.label(grid==0)\n",
    "        areas = measurements.sum(grid==0, labels, index=range(1, num+1))\n",
    "        return np.prod(areas)\n",
    "\n",
    "    ###############################################\n",
    "    # Main solver.    \n",
    "    def solve(self):  \n",
    "        while len(self.potential_grids) > 0:\n",
    "            temp_grid = self.potential_grids.pop(0)\n",
    "            #create the potential rotations at the given level\n",
    "            rotations = []\n",
    "        \n",
    "            for alignment in range(3,-1,-1):\n",
    "                lvl,grid,coords = dcopy(temp_grid)\n",
    "                grid,coords = self.add_layer(grid,coords,-lvl,alignment)\n",
    "                if lvl != -1 :\n",
    "                    rotations.append([lvl+1,grid,coords])\n",
    "                else:\n",
    "                     rotations = [[lvl+1,grid,coords]]\n",
    "    \n",
    "            #check valid grids (where the sum can be made from available digits) and save the ones that work\n",
    "            for i in range(len(rotations)):\n",
    "                lvl,g,coords = rotations[i]\n",
    "                if self.check_grid(g):\n",
    "                    if lvl !=0:    \n",
    "                        self.potential_grids.append([lvl,g,coords])\n",
    "                    else:\n",
    "                        self.solution.append(g)                     \n",
    "                    \n",
    "        print(\"There are {} valid hook placements\\n\".format(len(self.solution)))\n",
    "\n",
    "        #solve each grid in the cut down list\n",
    "        forced_grids = []\n",
    "        for i in range(len(self.solution)):\n",
    "            #print(\"Checking: \",i+1)\n",
    "            hooks = self.solution[i]\n",
    "            if self.end_flag == 0:\n",
    "                flag,forced_grid = self.forced_cells(hooks)\n",
    "                if flag:\n",
    "                    #print(\"Checking: \",i+1)\n",
    "                #for valid forced grids solve the final matrix\n",
    "                    #sol_print(forced_grid,hooks,self.groups)\n",
    "                    #print(\"still to solve\",np.sum(forced_grid==-1))\n",
    "                    self.fill_rest(forced_grid,hooks)\n",
    "            else:\n",
    "                break\n",
    "            #else:\n",
    "                #print(\"***INCONSISTENT***\")\n",
    "\n",
    "                \n",
    "#########################\n",
    "# Code to print in a \"nice\" format\n",
    "                            \n",
    "def sol_print(solved,matrix,groups):\n",
    "    fig,ax = plt.subplots(1,2,figsize=(6,3))\n",
    "    x = np.array((solved*matrix).astype('int').astype('str'))\n",
    "    x[x==\"0\"] =\"-\"\n",
    "    groups_fixed = dcopy(groups)\n",
    "    groups_fixed[2,4] = 0\n",
    "    groups_fixed[6,4] = 15\n",
    "    ax1 =sns.heatmap(matrix,annot=x,cbar=False,cmap=\"Pastel1_r\",fmt=\"\",linewidths=1,ax=ax[0])\n",
    "    ax2 =sns.heatmap(groups_fixed,annot=x,cbar=False,cmap=\"tab20\",fmt=\"\",linewidths=1,ax=ax[1])\n",
    "    ax1.axis(\"off\")\n",
    "    ax2.axis(\"off\")\n",
    "    plt.tight_layout()"
   ]
  },
  {
   "cell_type": "code",
   "execution_count": 4,
   "metadata": {
    "colab": {
     "base_uri": "https://localhost:8080/",
     "height": 374
    },
    "id": "zexQ8t1kT1W3",
    "outputId": "7c2aec4e-d2fb-45d8-fc7e-679051faafed"
   },
   "outputs": [
    {
     "name": "stdout",
     "output_type": "stream",
     "text": [
      "There are 172 valid hook placements\n",
      "\n"
     ]
    },
    {
     "name": "stderr",
     "output_type": "stream",
     "text": [
      "/var/folders/gh/y4xlwd0d05xc91xhsql5lf0w0000gn/T/ipykernel_9556/3348797895.py:202: DeprecationWarning: Please use `label` from the `scipy.ndimage` namespace, the `scipy.ndimage.measurements` namespace is deprecated.\n",
      "  labels, num = measurements.label(grid==0)\n",
      "/var/folders/gh/y4xlwd0d05xc91xhsql5lf0w0000gn/T/ipykernel_9556/3348797895.py:203: DeprecationWarning: Please use `sum` from the `scipy.ndimage` namespace, the `scipy.ndimage.measurements` namespace is deprecated.\n",
      "  areas = measurements.sum(grid==0, labels, index=range(1, num+1))\n"
     ]
    },
    {
     "name": "stdout",
     "output_type": "stream",
     "text": [
      "The product of the areas is : 2,200\n",
      "Solution took 3.0541 seconds\n"
     ]
    },
    {
     "data": {
      "image/png": "[encoded data removed]",
      "text/plain": [
       "<Figure size 600x300 with 2 Axes>"
      ]
     },
     "metadata": {},
     "output_type": "display_data"
    }
   ],
   "source": [
    "start = time.perf_counter()\n",
    "test = Matrix(groups)\n",
    "test.solve()\n",
    "stop =  time.perf_counter()\n",
    "print('Solution took {:0.4f} seconds'.format((stop-start)))"
   ]
  },
  {
   "cell_type": "code",
   "execution_count": 9,
   "metadata": {
    "colab": {
     "base_uri": "https://localhost:8080/",
     "height": 374
    },
    "id": "zexQ8t1kT1W3",
    "outputId": "7c2aec4e-d2fb-45d8-fc7e-679051faafed"
   },
   "outputs": [
    {
     "data": {
      "text/markdown": [
       "### February 2021 : Solution\n",
       "\n",
       "Here is the completed grid for this Hooks puzzle, which when you take\n",
       "the product of the sizes of the empty regions gives\n",
       "2200\n",
       "."
      ],
      "text/plain": [
       "<IPython.core.display.Markdown object>"
      ]
     },
     "metadata": {},
     "output_type": "display_data"
    }
   ],
   "source": [
    "url='https://www.janestreet.com/puzzles/hooks-7-solution/'\n",
    "res = requests.get(url)\n",
    "soup = BeautifulSoup(res.content, 'html.parser')\n",
    "y =[text for text in soup.body.stripped_strings]\n",
    "#display([(i,j) for i,j in enumerate(y)])\n",
    "display(Markdown(\"### \"+y[8]+\"\\n\\n\"+str(\"\\n\".join(y[10:13]))))"
   ]
  },
  {
   "cell_type": "markdown",
   "metadata": {
    "id": "ld_NFUIfT1W9"
   },
   "source": [
    "### Puzzle solution\n",
    "<img src=\"https://www.janestreet.com/puzzles/20210228_hooks_7_ans-1.png\" width=\"300\" >"
   ]
  },
  {
   "cell_type": "code",
   "execution_count": null,
   "metadata": {},
   "outputs": [],
   "source": []
  }
 ],
 "metadata": {
  "colab": {
   "include_colab_link": true,
   "name": "JaneSt-Feb18.ipynb",
   "provenance": []
  },
  "kernelspec": {
   "display_name": "Python 3.11.1 64-bit",
   "language": "python",
   "name": "python3"
  },
  "language_info": {
   "codemirror_mode": {
    "name": "ipython",
    "version": 3
   },
   "file_extension": ".py",
   "mimetype": "text/x-python",
   "name": "python",
   "nbconvert_exporter": "python",
   "pygments_lexer": "ipython3",
   "version": "3.11.1"
  },
  "vscode": {
   "interpreter": {
    "hash": "aee8b7b246df8f9039afb4144a1f6fd8d2ca17a180786b69acc140d282b71a49"
   }
  }
 },
 "nbformat": 4,
 "nbformat_minor": 4
}
